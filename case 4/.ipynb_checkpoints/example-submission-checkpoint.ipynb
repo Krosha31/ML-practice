{
 "cells": [
  {
   "cell_type": "code",
   "execution_count": 1,
   "id": "92610a84",
   "metadata": {
    "_cell_guid": "b1076dfc-b9ad-4769-8c92-a6c4dae69d19",
    "_uuid": "8f2839f25d086af736a60e9eeb907d3b93b6e0e5",
    "execution": {
     "iopub.execute_input": "2023-02-10T12:24:03.883432Z",
     "iopub.status.busy": "2023-02-10T12:24:03.882595Z",
     "iopub.status.idle": "2023-02-10T12:24:05.215070Z",
     "shell.execute_reply": "2023-02-10T12:24:05.213746Z"
    },
    "papermill": {
     "duration": 1.342339,
     "end_time": "2023-02-10T12:24:05.218146",
     "exception": false,
     "start_time": "2023-02-10T12:24:03.875807",
     "status": "completed"
    },
    "tags": []
   },
   "outputs": [],
   "source": [
    "import pandas as pd\n",
    "import numpy as np\n",
    "import matplotlib.pyplot as plt\n",
    "import seaborn as sns\n",
    "from sklearn.metrics import confusion_matrix"
   ]
  },
  {
   "cell_type": "code",
   "execution_count": 2,
   "id": "dce11d36",
   "metadata": {
    "execution": {
     "iopub.execute_input": "2023-02-10T12:24:05.228414Z",
     "iopub.status.busy": "2023-02-10T12:24:05.227950Z",
     "iopub.status.idle": "2023-02-10T12:24:05.236112Z",
     "shell.execute_reply": "2023-02-10T12:24:05.234689Z"
    },
    "papermill": {
     "duration": 0.016067,
     "end_time": "2023-02-10T12:24:05.238600",
     "exception": false,
     "start_time": "2023-02-10T12:24:05.222533",
     "status": "completed"
    },
    "tags": []
   },
   "outputs": [],
   "source": [
    "def cm_plot(y_test, y_pred):\n",
    "\n",
    "    cm = confusion_matrix(y_test, y_pred)\n",
    "    # Normalise\n",
    "    cmn = cm.astype('float') / cm.sum(axis=1)[:, np.newaxis]\n",
    "    fig, ax = plt.subplots(figsize=(5,5))\n",
    "    sns.heatmap(cmn, cmap='Blues', annot=True, fmt='.2f')\n",
    "    sns.set(font_scale=1.3)\n",
    "    plt.title(\"Confusion Matrix\")\n",
    "\n",
    "    return plt.show()\n"
   ]
  },
  {
   "cell_type": "code",
   "execution_count": 3,
   "id": "57c870e4",
   "metadata": {
    "execution": {
     "iopub.execute_input": "2023-02-10T12:24:05.248360Z",
     "iopub.status.busy": "2023-02-10T12:24:05.247944Z",
     "iopub.status.idle": "2023-02-10T12:24:05.471022Z",
     "shell.execute_reply": "2023-02-10T12:24:05.469686Z"
    },
    "papermill": {
     "duration": 0.2311,
     "end_time": "2023-02-10T12:24:05.473791",
     "exception": false,
     "start_time": "2023-02-10T12:24:05.242691",
     "status": "completed"
    },
    "tags": []
   },
   "outputs": [],
   "source": [
    "X_train = np.load(\"/kaggle/input/neymark-tsc/train_x.npy\")\n",
    "y_train = np.load(\"/kaggle/input/neymark-tsc/train_y.npy\")\n",
    "X_test_real = np.load(\"/kaggle/input/neymark-tsc/test_x.npy\")\n"
   ]
  },
  {
   "cell_type": "code",
   "execution_count": null,
   "id": "90bab9a9",
   "metadata": {},
   "outputs": [],
   "source": [
    "y_tt"
   ]
  },
  {
   "cell_type": "code",
   "execution_count": 4,
   "id": "4789eb5b",
   "metadata": {
    "execution": {
     "iopub.execute_input": "2023-02-10T12:24:05.483503Z",
     "iopub.status.busy": "2023-02-10T12:24:05.483050Z",
     "iopub.status.idle": "2023-02-10T12:24:05.494268Z",
     "shell.execute_reply": "2023-02-10T12:24:05.492667Z"
    },
    "papermill": {
     "duration": 0.019791,
     "end_time": "2023-02-10T12:24:05.497533",
     "exception": false,
     "start_time": "2023-02-10T12:24:05.477742",
     "status": "completed"
    },
    "tags": []
   },
   "outputs": [
    {
     "data": {
      "text/plain": [
       "(14667, 187)"
      ]
     },
     "execution_count": 4,
     "metadata": {},
     "output_type": "execute_result"
    }
   ],
   "source": [
    "X_train.shape"
   ]
  },
  {
   "cell_type": "code",
   "execution_count": 5,
   "id": "c990ef6b",
   "metadata": {
    "execution": {
     "iopub.execute_input": "2023-02-10T12:24:05.508616Z",
     "iopub.status.busy": "2023-02-10T12:24:05.508134Z",
     "iopub.status.idle": "2023-02-10T12:24:05.515918Z",
     "shell.execute_reply": "2023-02-10T12:24:05.514620Z"
    },
    "papermill": {
     "duration": 0.016524,
     "end_time": "2023-02-10T12:24:05.518691",
     "exception": false,
     "start_time": "2023-02-10T12:24:05.502167",
     "status": "completed"
    },
    "tags": []
   },
   "outputs": [
    {
     "data": {
      "text/plain": [
       "(7225, 187)"
      ]
     },
     "execution_count": 5,
     "metadata": {},
     "output_type": "execute_result"
    }
   ],
   "source": [
    "X_test_real.shape"
   ]
  },
  {
   "cell_type": "code",
   "execution_count": 6,
   "id": "68af5d1b",
   "metadata": {
    "execution": {
     "iopub.execute_input": "2023-02-10T12:24:05.528733Z",
     "iopub.status.busy": "2023-02-10T12:24:05.528290Z",
     "iopub.status.idle": "2023-02-10T12:24:22.462709Z",
     "shell.execute_reply": "2023-02-10T12:24:22.461222Z"
    },
    "papermill": {
     "duration": 16.943247,
     "end_time": "2023-02-10T12:24:22.466244",
     "exception": false,
     "start_time": "2023-02-10T12:24:05.522997",
     "status": "completed"
    },
    "tags": []
   },
   "outputs": [
    {
     "name": "stdout",
     "output_type": "stream",
     "text": [
      "Collecting sktime\r\n",
      "  Downloading sktime-0.16.0-py3-none-any.whl (16.0 MB)\r\n",
      "\u001b[2K     \u001b[90m━━━━━━━━━━━━━━━━━━━━━━━━━━━━━━━━━━━━━━━━\u001b[0m \u001b[32m16.0/16.0 MB\u001b[0m \u001b[31m26.1 MB/s\u001b[0m eta \u001b[36m0:00:00\u001b[0m\r\n",
      "\u001b[?25hRequirement already satisfied: numba>=0.55 in /opt/conda/lib/python3.7/site-packages (from sktime) (0.55.2)\r\n",
      "Requirement already satisfied: pandas<1.6.0,>=1.1.0 in /opt/conda/lib/python3.7/site-packages (from sktime) (1.3.5)\r\n",
      "Requirement already satisfied: scipy<2.0.0,>=1.2.0 in /opt/conda/lib/python3.7/site-packages (from sktime) (1.7.3)\r\n",
      "Requirement already satisfied: scikit-learn<1.3.0,>=0.24.0 in /opt/conda/lib/python3.7/site-packages (from sktime) (1.0.2)\r\n",
      "Collecting deprecated>=1.2.13\r\n",
      "  Downloading Deprecated-1.2.13-py2.py3-none-any.whl (9.6 kB)\r\n",
      "Requirement already satisfied: numpy<1.25,>=1.21.0 in /opt/conda/lib/python3.7/site-packages (from sktime) (1.21.6)\r\n",
      "Requirement already satisfied: wrapt<2,>=1.10 in /opt/conda/lib/python3.7/site-packages (from deprecated>=1.2.13->sktime) (1.12.1)\r\n",
      "Requirement already satisfied: llvmlite<0.39,>=0.38.0rc1 in /opt/conda/lib/python3.7/site-packages (from numba>=0.55->sktime) (0.38.1)\r\n",
      "Requirement already satisfied: setuptools in /opt/conda/lib/python3.7/site-packages (from numba>=0.55->sktime) (59.8.0)\r\n",
      "Requirement already satisfied: python-dateutil>=2.7.3 in /opt/conda/lib/python3.7/site-packages (from pandas<1.6.0,>=1.1.0->sktime) (2.8.2)\r\n",
      "Requirement already satisfied: pytz>=2017.3 in /opt/conda/lib/python3.7/site-packages (from pandas<1.6.0,>=1.1.0->sktime) (2022.1)\r\n",
      "Requirement already satisfied: threadpoolctl>=2.0.0 in /opt/conda/lib/python3.7/site-packages (from scikit-learn<1.3.0,>=0.24.0->sktime) (3.1.0)\r\n",
      "Requirement already satisfied: joblib>=0.11 in /opt/conda/lib/python3.7/site-packages (from scikit-learn<1.3.0,>=0.24.0->sktime) (1.0.1)\r\n",
      "Requirement already satisfied: six>=1.5 in /opt/conda/lib/python3.7/site-packages (from python-dateutil>=2.7.3->pandas<1.6.0,>=1.1.0->sktime) (1.15.0)\r\n",
      "Installing collected packages: deprecated, sktime\r\n",
      "Successfully installed deprecated-1.2.13 sktime-0.16.0\r\n",
      "\u001b[33mWARNING: Running pip as the 'root' user can result in broken permissions and conflicting behaviour with the system package manager. It is recommended to use a virtual environment instead: https://pip.pypa.io/warnings/venv\u001b[0m\u001b[33m\r\n",
      "\u001b[0m"
     ]
    }
   ],
   "source": [
    "!pip install sktime"
   ]
  },
  {
   "cell_type": "code",
   "execution_count": 7,
   "id": "6b9b651f",
   "metadata": {
    "execution": {
     "iopub.execute_input": "2023-02-10T12:24:22.481465Z",
     "iopub.status.busy": "2023-02-10T12:24:22.480897Z",
     "iopub.status.idle": "2023-02-10T12:24:22.518329Z",
     "shell.execute_reply": "2023-02-10T12:24:22.517106Z"
    },
    "papermill": {
     "duration": 0.048325,
     "end_time": "2023-02-10T12:24:22.520844",
     "exception": false,
     "start_time": "2023-02-10T12:24:22.472519",
     "status": "completed"
    },
    "tags": []
   },
   "outputs": [],
   "source": [
    "from sklearn.model_selection import train_test_split\n",
    "X_train, X_test, y_train, y_test = train_test_split(X_train, y_train, test_size=0.33, random_state=42)"
   ]
  },
  {
   "cell_type": "code",
   "execution_count": 8,
   "id": "fd7556d6",
   "metadata": {
    "execution": {
     "iopub.execute_input": "2023-02-10T12:24:22.535307Z",
     "iopub.status.busy": "2023-02-10T12:24:22.534630Z",
     "iopub.status.idle": "2023-02-10T12:25:18.889039Z",
     "shell.execute_reply": "2023-02-10T12:25:18.887415Z"
    },
    "papermill": {
     "duration": 56.369596,
     "end_time": "2023-02-10T12:25:18.896756",
     "exception": false,
     "start_time": "2023-02-10T12:24:22.527160",
     "status": "completed"
    },
    "tags": []
   },
   "outputs": [
    {
     "data": {
      "text/plain": [
       "0.8200498034355433"
      ]
     },
     "execution_count": 8,
     "metadata": {},
     "output_type": "execute_result"
    }
   ],
   "source": [
    "from sktime.clasification import HIVECOTEV1\n",
    "from sklearn.metrics import f1_score\n",
    "classifier = HIVECOTEV1()\n",
    "classifier.fit(X_train, y_train)\n",
    "y_pred = classifier.predict(X_test)\n",
    "f1_score(y_test, y_pred, average=\"macro\")"
   ]
  },
  {
   "cell_type": "code",
   "execution_count": 9,
   "id": "a6364397",
   "metadata": {
    "execution": {
     "iopub.execute_input": "2023-02-10T12:25:18.911591Z",
     "iopub.status.busy": "2023-02-10T12:25:18.910896Z",
     "iopub.status.idle": "2023-02-10T12:25:19.279005Z",
     "shell.execute_reply": "2023-02-10T12:25:19.277389Z"
    },
    "papermill": {
     "duration": 0.378911,
     "end_time": "2023-02-10T12:25:19.281996",
     "exception": false,
     "start_time": "2023-02-10T12:25:18.903085",
     "status": "completed"
    },
    "tags": []
   },
   "outputs": [
    {
     "data": {
      "image/png": "[encoded data removed]",
      "text/plain": [
       "<Figure size 360x360 with 2 Axes>"
      ]
     },
     "metadata": {
      "needs_background": "light"
     },
     "output_type": "display_data"
    }
   ],
   "source": [
    "cm_plot(y_test, y_pred)"
   ]
  },
  {
   "cell_type": "code",
   "execution_count": 10,
   "id": "6efeca28",
   "metadata": {
    "execution": {
     "iopub.execute_input": "2023-02-10T12:25:19.297146Z",
     "iopub.status.busy": "2023-02-10T12:25:19.296736Z",
     "iopub.status.idle": "2023-02-10T12:26:38.175385Z",
     "shell.execute_reply": "2023-02-10T12:26:38.174310Z"
    },
    "papermill": {
     "duration": 78.889257,
     "end_time": "2023-02-10T12:26:38.178105",
     "exception": false,
     "start_time": "2023-02-10T12:25:19.288848",
     "status": "completed"
    },
    "tags": []
   },
   "outputs": [],
   "source": [
    "y_pred = classifier.predict(X_test_real)\n"
   ]
  },
  {
   "cell_type": "code",
   "execution_count": 11,
   "id": "2c246e8a",
   "metadata": {
    "execution": {
     "iopub.execute_input": "2023-02-10T12:26:38.193504Z",
     "iopub.status.busy": "2023-02-10T12:26:38.192783Z",
     "iopub.status.idle": "2023-02-10T12:26:38.411299Z",
     "shell.execute_reply": "2023-02-10T12:26:38.410215Z"
    },
    "papermill": {
     "duration": 0.229079,
     "end_time": "2023-02-10T12:26:38.413839",
     "exception": false,
     "start_time": "2023-02-10T12:26:38.184760",
     "status": "completed"
    },
    "tags": []
   },
   "outputs": [
    {
     "data": {
      "text/html": [
       "<div>\n",
       "<style scoped>\n",
       "    .dataframe tbody tr th:only-of-type {\n",
       "        vertical-align: middle;\n",
       "    }\n",
       "\n",
       "    .dataframe tbody tr th {\n",
       "        vertical-align: top;\n",
       "    }\n",
       "\n",
       "    .dataframe thead th {\n",
       "        text-align: right;\n",
       "    }\n",
       "</style>\n",
       "<table border=\"1\" class=\"dataframe\">\n",
       "  <thead>\n",
       "    <tr style=\"text-align: right;\">\n",
       "      <th></th>\n",
       "      <th>ID</th>\n",
       "      <th>Answer</th>\n",
       "    </tr>\n",
       "  </thead>\n",
       "  <tbody>\n",
       "    <tr>\n",
       "      <th>0</th>\n",
       "      <td>0</td>\n",
       "      <td>0</td>\n",
       "    </tr>\n",
       "    <tr>\n",
       "      <th>1</th>\n",
       "      <td>1</td>\n",
       "      <td>0</td>\n",
       "    </tr>\n",
       "    <tr>\n",
       "      <th>2</th>\n",
       "      <td>2</td>\n",
       "      <td>0</td>\n",
       "    </tr>\n",
       "    <tr>\n",
       "      <th>3</th>\n",
       "      <td>3</td>\n",
       "      <td>2</td>\n",
       "    </tr>\n",
       "    <tr>\n",
       "      <th>4</th>\n",
       "      <td>4</td>\n",
       "      <td>0</td>\n",
       "    </tr>\n",
       "    <tr>\n",
       "      <th>...</th>\n",
       "      <td>...</td>\n",
       "      <td>...</td>\n",
       "    </tr>\n",
       "    <tr>\n",
       "      <th>7220</th>\n",
       "      <td>7220</td>\n",
       "      <td>0</td>\n",
       "    </tr>\n",
       "    <tr>\n",
       "      <th>7221</th>\n",
       "      <td>7221</td>\n",
       "      <td>2</td>\n",
       "    </tr>\n",
       "    <tr>\n",
       "      <th>7222</th>\n",
       "      <td>7222</td>\n",
       "      <td>0</td>\n",
       "    </tr>\n",
       "    <tr>\n",
       "      <th>7223</th>\n",
       "      <td>7223</td>\n",
       "      <td>0</td>\n",
       "    </tr>\n",
       "    <tr>\n",
       "      <th>7224</th>\n",
       "      <td>7224</td>\n",
       "      <td>0</td>\n",
       "    </tr>\n",
       "  </tbody>\n",
       "</table>\n",
       "<p>7225 rows × 2 columns</p>\n",
       "</div>"
      ],
      "text/plain": [
       "        ID Answer\n",
       "0        0      0\n",
       "1        1      0\n",
       "2        2      0\n",
       "3        3      2\n",
       "4        4      0\n",
       "...    ...    ...\n",
       "7220  7220      0\n",
       "7221  7221      2\n",
       "7222  7222      0\n",
       "7223  7223      0\n",
       "7224  7224      0\n",
       "\n",
       "[7225 rows x 2 columns]"
      ]
     },
     "execution_count": 11,
     "metadata": {},
     "output_type": "execute_result"
    }
   ],
   "source": [
    "# y_pred_csv = pd.DataFrame(list(range(len(y_pred))), columns=[\"Id\"])\n",
    "y_pred_csv = pd.DataFrame()\n",
    "y_pred_csv[\"ID\"] = np.array(range(len(y_pred))).astype(int).astype(str)\n",
    "y_pred_csv[\"Answer\"] = np.array(y_pred).astype(int).astype(str)\n",
    "y_pred_csv.to_csv(\"testing_submission.csv\", index=False)\n",
    "y_pred_csv"
   ]
  },
  {
   "cell_type": "code",
   "execution_count": null,
   "id": "7eee085a",
   "metadata": {
    "papermill": {
     "duration": 0.006176,
     "end_time": "2023-02-10T12:26:38.426727",
     "exception": false,
     "start_time": "2023-02-10T12:26:38.420551",
     "status": "completed"
    },
    "tags": []
   },
   "outputs": [],
   "source": []
  }
 ],
 "metadata": {
  "kernelspec": {
   "display_name": "Python 3 (ipykernel)",
   "language": "python",
   "name": "python3"
  },
  "language_info": {
   "codemirror_mode": {
    "name": "ipython",
    "version": 3
   },
   "file_extension": ".py",
   "mimetype": "text/x-python",
   "name": "python",
   "nbconvert_exporter": "python",
   "pygments_lexer": "ipython3",
   "version": "3.10.0"
  },
  "papermill": {
   "default_parameters": {},
   "duration": 164.581174,
   "end_time": "2023-02-10T12:26:39.564075",
   "environment_variables": {},
   "exception": null,
   "input_path": "__notebook__.ipynb",
   "output_path": "__notebook__.ipynb",
   "parameters": {},
   "start_time": "2023-02-10T12:23:54.982901",
   "version": "2.3.4"
  }
 },
 "nbformat": 4,
 "nbformat_minor": 5
}
