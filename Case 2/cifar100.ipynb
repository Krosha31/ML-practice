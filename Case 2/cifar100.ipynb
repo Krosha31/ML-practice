{
 "cells": [
  {
   "cell_type": "markdown",
   "metadata": {},
   "source": [
    "**Классификация изображений с помощью сверточных нейронных сетей**\n",
    "\n",
    "В данном задании Вам необходимо разработать архитектуру сверточной ИНС, обеспечивающую наибольшую точность при ограничении на количество операций (FLOPs <= 0.707e6).\n",
    "Заготовка кода для выполнения задания приведена выше. Вашей задачей будет заполнить пропущеные места, которые отмечены ключевым словом *None*.\n",
    "Необходимая точность (accuracy) сети на датасете CIFAR100 - 30%\n",
    "Желаемая точность (accuracy) сети на датасете CIFAR100 - 45%"
   ]
  },
  {
   "cell_type": "code",
   "execution_count": 1,
   "metadata": {
    "_cell_guid": "b1076dfc-b9ad-4769-8c92-a6c4dae69d19",
    "_uuid": "8f2839f25d086af736a60e9eeb907d3b93b6e0e5",
    "execution": {
     "iopub.execute_input": "2023-01-25T17:20:58.120931Z",
     "iopub.status.busy": "2023-01-25T17:20:58.120515Z",
     "iopub.status.idle": "2023-01-25T17:20:59.893947Z",
     "shell.execute_reply": "2023-01-25T17:20:59.891652Z",
     "shell.execute_reply.started": "2023-01-25T17:20:58.120893Z"
    }
   },
   "outputs": [],
   "source": [
    "# Импорт необходимых библиотек\n",
    "import numpy as np\n",
    "import pandas as pd\n",
    "import tensorflow as tf\n",
    "from keras_flops import get_flops"
   ]
  },
  {
   "cell_type": "code",
   "execution_count": 2,
   "metadata": {
    "execution": {
     "iopub.status.busy": "2023-01-25T17:20:59.895036Z",
     "iopub.status.idle": "2023-01-25T17:20:59.895491Z",
     "shell.execute_reply": "2023-01-25T17:20:59.895280Z",
     "shell.execute_reply.started": "2023-01-25T17:20:59.895262Z"
    }
   },
   "outputs": [],
   "source": [
    "# Глобальные константы\n",
    "CLASSES       = 100\n",
    "BATCH_SIZE    = 128\n",
    "LEARNING_RATE = 1e-2"
   ]
  },
  {
   "cell_type": "code",
   "execution_count": 3,
   "metadata": {
    "execution": {
     "iopub.status.busy": "2023-01-25T17:20:59.898265Z",
     "iopub.status.idle": "2023-01-25T17:20:59.898703Z",
     "shell.execute_reply": "2023-01-25T17:20:59.898513Z",
     "shell.execute_reply.started": "2023-01-25T17:20:59.898494Z"
    }
   },
   "outputs": [],
   "source": [
    "# Выполните загрузку модели\n",
    "(X_train, y_train), (X_val, y_val) = tf.keras.datasets.cifar100.load_data(\n",
    "    label_mode='fine'\n",
    ")"
   ]
  },
  {
   "cell_type": "code",
   "execution_count": 4,
   "metadata": {
    "execution": {
     "iopub.status.busy": "2023-01-25T17:20:59.899734Z",
     "iopub.status.idle": "2023-01-25T17:20:59.900108Z",
     "shell.execute_reply": "2023-01-25T17:20:59.899943Z",
     "shell.execute_reply.started": "2023-01-25T17:20:59.899926Z"
    }
   },
   "outputs": [],
   "source": [
    "# Преобразуйте метки классов в one_hot формат\n",
    "y_train = tf.keras.utils.to_categorical(y_train, CLASSES)\n",
    "y_val = tf.keras.utils.to_categorical(y_val, CLASSES)"
   ]
  },
  {
   "cell_type": "code",
   "execution_count": 5,
   "metadata": {
    "execution": {
     "iopub.status.busy": "2023-01-25T17:20:59.901450Z",
     "iopub.status.idle": "2023-01-25T17:20:59.901872Z",
     "shell.execute_reply": "2023-01-25T17:20:59.901692Z",
     "shell.execute_reply.started": "2023-01-25T17:20:59.901672Z"
    }
   },
   "outputs": [],
   "source": [
    "# убедитесь, что данная ячейка выполняется без ошибок\n",
    "assert X_train.shape == (50000, 32, 32, 3)\n",
    "assert X_val.shape == (10000, 32, 32, 3)\n",
    "assert y_train.shape == (50000, 100)\n",
    "assert y_val.shape == (10000, 100)"
   ]
  },
  {
   "cell_type": "code",
   "execution_count": 6,
   "metadata": {
    "execution": {
     "iopub.status.busy": "2023-01-25T17:20:59.903296Z",
     "iopub.status.idle": "2023-01-25T17:20:59.903798Z",
     "shell.execute_reply": "2023-01-25T17:20:59.903580Z",
     "shell.execute_reply.started": "2023-01-25T17:20:59.903559Z"
    }
   },
   "outputs": [],
   "source": [
    "# Задайте архитектуру модели\n",
    "model = tf.keras.models.Sequential([\n",
    "    tf.keras.Input(shape=[32,32,3]),\n",
    "    tf.keras.layers.Conv2D(24, 4, padding='same', strides=2),\n",
    "    tf.keras.layers.BatchNormalization(),\n",
    "    tf.keras.layers.Activation('relu'),\n",
    "    tf.keras.layers.MaxPool2D(4),\n",
    "    tf.keras.layers.Flatten(),\n",
    "    tf.keras.layers.Dense(CLASSES),\n",
    "    tf.keras.layers.Activation('sigmoid')\n",
    "])"
   ]
  },
  {
   "cell_type": "code",
   "execution_count": 7,
   "metadata": {
    "execution": {
     "iopub.status.busy": "2023-01-25T17:20:59.905168Z",
     "iopub.status.idle": "2023-01-25T17:20:59.905538Z",
     "shell.execute_reply": "2023-01-25T17:20:59.905373Z",
     "shell.execute_reply.started": "2023-01-25T17:20:59.905355Z"
    }
   },
   "outputs": [
    {
     "name": "stdout",
     "output_type": "stream",
     "text": [
      "WARNING:tensorflow:From C:\\Users\\malko\\AppData\\Local\\Programs\\Python\\Python310\\lib\\site-packages\\tensorflow\\python\\ops\\nn_ops.py:5250: tensor_shape_from_node_def_name (from tensorflow.python.framework.graph_util_impl) is deprecated and will be removed in a future version.\n",
      "Instructions for updating:\n",
      "This API was designed for TensorFlow v1. See https://www.tensorflow.org/guide/migrate for instructions on how to migrate your code to TensorFlow v2.\n",
      "FLOPs: 0.6914e6\n"
     ]
    }
   ],
   "source": [
    "# вычисление количества операций\n",
    "flops = get_flops(model, batch_size=1)\n",
    "print(f\"FLOPs: {(flops / 1e6):.4f}e6\")"
   ]
  },
  {
   "cell_type": "code",
   "execution_count": 8,
   "metadata": {
    "execution": {
     "iopub.status.busy": "2023-01-25T17:20:59.906713Z",
     "iopub.status.idle": "2023-01-25T17:20:59.907095Z",
     "shell.execute_reply": "2023-01-25T17:20:59.906929Z",
     "shell.execute_reply.started": "2023-01-25T17:20:59.906911Z"
    }
   },
   "outputs": [
    {
     "name": "stdout",
     "output_type": "stream",
     "text": [
      "Model: \"sequential\"\n",
      "_________________________________________________________________\n",
      " Layer (type)                Output Shape              Param #   \n",
      "=================================================================\n",
      " conv2d (Conv2D)             (None, 16, 16, 24)        1176      \n",
      "                                                                 \n",
      " batch_normalization (BatchN  (None, 16, 16, 24)       96        \n",
      " ormalization)                                                   \n",
      "                                                                 \n",
      " activation (Activation)     (None, 16, 16, 24)        0         \n",
      "                                                                 \n",
      " max_pooling2d (MaxPooling2D  (None, 4, 4, 24)         0         \n",
      " )                                                               \n",
      "                                                                 \n",
      " flatten (Flatten)           (None, 384)               0         \n",
      "                                                                 \n",
      " dense (Dense)               (None, 100)               38500     \n",
      "                                                                 \n",
      " activation_1 (Activation)   (None, 100)               0         \n",
      "                                                                 \n",
      "=================================================================\n",
      "Total params: 39,772\n",
      "Trainable params: 39,724\n",
      "Non-trainable params: 48\n",
      "_________________________________________________________________\n"
     ]
    }
   ],
   "source": [
    "# вывод краткой информации о модели\n",
    "model.summary()"
   ]
  },
  {
   "cell_type": "code",
   "execution_count": 9,
   "metadata": {
    "execution": {
     "iopub.status.busy": "2023-01-25T17:20:59.908787Z",
     "iopub.status.idle": "2023-01-25T17:20:59.909203Z",
     "shell.execute_reply": "2023-01-25T17:20:59.909027Z",
     "shell.execute_reply.started": "2023-01-25T17:20:59.909007Z"
    }
   },
   "outputs": [],
   "source": [
    "# параметры данной ячейки могут быть изменены для получения более высокой точности\n",
    "model.compile(\n",
    "    optimizer=tf.keras.optimizers.Adam(\n",
    "        learning_rate=tf.keras.optimizers.schedules.ExponentialDecay(initial_learning_rate=LEARNING_RATE, decay_steps=1000, decay_rate=0.5)\n",
    "    ),\n",
    "    loss=tf.keras.losses.CategoricalCrossentropy(),\n",
    "    metrics=['accuracy']\n",
    ")"
   ]
  },
  {
   "cell_type": "code",
   "execution_count": 10,
   "metadata": {
    "execution": {
     "iopub.status.busy": "2023-01-25T17:20:59.911067Z",
     "iopub.status.idle": "2023-01-25T17:20:59.911478Z",
     "shell.execute_reply": "2023-01-25T17:20:59.911299Z",
     "shell.execute_reply.started": "2023-01-25T17:20:59.911279Z"
    },
    "scrolled": true
   },
   "outputs": [
    {
     "name": "stdout",
     "output_type": "stream",
     "text": [
      "Epoch 1/128\n",
      "391/391 [==============================] - 8s 18ms/step - loss: 3.7025 - accuracy: 0.1667 - val_loss: 3.3308 - val_accuracy: 0.2254\n",
      "Epoch 2/128\n",
      "391/391 [==============================] - 7s 17ms/step - loss: 3.0144 - accuracy: 0.2753 - val_loss: 3.0347 - val_accuracy: 0.2767\n",
      "Epoch 3/128\n",
      "391/391 [==============================] - 7s 18ms/step - loss: 2.7920 - accuracy: 0.3190 - val_loss: 2.9337 - val_accuracy: 0.2913\n",
      "Epoch 4/128\n",
      "391/391 [==============================] - 7s 17ms/step - loss: 2.6638 - accuracy: 0.3467 - val_loss: 2.8083 - val_accuracy: 0.3276\n",
      "Epoch 5/128\n",
      "391/391 [==============================] - 7s 17ms/step - loss: 2.5679 - accuracy: 0.3649 - val_loss: 2.8312 - val_accuracy: 0.3173\n",
      "Epoch 6/128\n",
      "391/391 [==============================] - 7s 17ms/step - loss: 2.4935 - accuracy: 0.3822 - val_loss: 2.7970 - val_accuracy: 0.3256\n",
      "Epoch 7/128\n",
      "391/391 [==============================] - 7s 17ms/step - loss: 2.4375 - accuracy: 0.3961 - val_loss: 2.7411 - val_accuracy: 0.3383\n",
      "Epoch 8/128\n",
      "391/391 [==============================] - 7s 17ms/step - loss: 2.3930 - accuracy: 0.4021 - val_loss: 2.7111 - val_accuracy: 0.3469\n",
      "Epoch 9/128\n",
      "391/391 [==============================] - 7s 17ms/step - loss: 2.3565 - accuracy: 0.4113 - val_loss: 2.7192 - val_accuracy: 0.3503\n",
      "Epoch 10/128\n",
      "391/391 [==============================] - 7s 17ms/step - loss: 2.3307 - accuracy: 0.4177 - val_loss: 2.6926 - val_accuracy: 0.3526\n",
      "Epoch 11/128\n",
      "391/391 [==============================] - 7s 17ms/step - loss: 2.3104 - accuracy: 0.4219 - val_loss: 2.6815 - val_accuracy: 0.3571\n",
      "Epoch 12/128\n",
      "391/391 [==============================] - 7s 17ms/step - loss: 2.2917 - accuracy: 0.4274 - val_loss: 2.6760 - val_accuracy: 0.3576\n",
      "Epoch 13/128\n",
      "391/391 [==============================] - 7s 17ms/step - loss: 2.2779 - accuracy: 0.4309 - val_loss: 2.6796 - val_accuracy: 0.3589\n",
      "Epoch 14/128\n",
      "391/391 [==============================] - 7s 17ms/step - loss: 2.2691 - accuracy: 0.4311 - val_loss: 2.6698 - val_accuracy: 0.3594\n",
      "Epoch 15/128\n",
      "391/391 [==============================] - 7s 17ms/step - loss: 2.2629 - accuracy: 0.4341 - val_loss: 2.6682 - val_accuracy: 0.3598\n",
      "Epoch 16/128\n",
      "391/391 [==============================] - 7s 17ms/step - loss: 2.2568 - accuracy: 0.4331 - val_loss: 2.6645 - val_accuracy: 0.3619\n",
      "Epoch 17/128\n",
      "391/391 [==============================] - 7s 18ms/step - loss: 2.2515 - accuracy: 0.4360 - val_loss: 2.6641 - val_accuracy: 0.3620\n",
      "Epoch 18/128\n",
      "391/391 [==============================] - 7s 17ms/step - loss: 2.2490 - accuracy: 0.4359 - val_loss: 2.6636 - val_accuracy: 0.3621\n",
      "Epoch 19/128\n",
      "391/391 [==============================] - 7s 17ms/step - loss: 2.2451 - accuracy: 0.4365 - val_loss: 2.6642 - val_accuracy: 0.3608\n",
      "Epoch 20/128\n",
      "391/391 [==============================] - 7s 17ms/step - loss: 2.2457 - accuracy: 0.4367 - val_loss: 2.6626 - val_accuracy: 0.3619\n",
      "Epoch 21/128\n",
      "391/391 [==============================] - 7s 17ms/step - loss: 2.2441 - accuracy: 0.4374 - val_loss: 2.6628 - val_accuracy: 0.3617\n",
      "Epoch 22/128\n",
      "391/391 [==============================] - 7s 18ms/step - loss: 2.2416 - accuracy: 0.4369 - val_loss: 2.6620 - val_accuracy: 0.3613\n",
      "Epoch 23/128\n",
      "391/391 [==============================] - 7s 18ms/step - loss: 2.2413 - accuracy: 0.4372 - val_loss: 2.6611 - val_accuracy: 0.3615\n",
      "Epoch 24/128\n",
      "391/391 [==============================] - 7s 17ms/step - loss: 2.2401 - accuracy: 0.4379 - val_loss: 2.6619 - val_accuracy: 0.3618\n",
      "Epoch 25/128\n",
      "391/391 [==============================] - 7s 17ms/step - loss: 2.2400 - accuracy: 0.4380 - val_loss: 2.6625 - val_accuracy: 0.3612\n",
      "Epoch 26/128\n",
      "391/391 [==============================] - 7s 17ms/step - loss: 2.2400 - accuracy: 0.4396 - val_loss: 2.6616 - val_accuracy: 0.3624\n",
      "Epoch 27/128\n",
      "391/391 [==============================] - 7s 17ms/step - loss: 2.2410 - accuracy: 0.4384 - val_loss: 2.6616 - val_accuracy: 0.3618\n",
      "Epoch 28/128\n",
      "391/391 [==============================] - 7s 18ms/step - loss: 2.2369 - accuracy: 0.4400 - val_loss: 2.6623 - val_accuracy: 0.3618\n",
      "Epoch 29/128\n",
      "391/391 [==============================] - 7s 17ms/step - loss: 2.2375 - accuracy: 0.4398 - val_loss: 2.6620 - val_accuracy: 0.3617\n",
      "Epoch 30/128\n",
      "391/391 [==============================] - 7s 17ms/step - loss: 2.2375 - accuracy: 0.4403 - val_loss: 2.6619 - val_accuracy: 0.3622\n",
      "Epoch 31/128\n",
      "391/391 [==============================] - 7s 18ms/step - loss: 2.2384 - accuracy: 0.4390 - val_loss: 2.6621 - val_accuracy: 0.3617\n",
      "Epoch 32/128\n",
      "391/391 [==============================] - 7s 17ms/step - loss: 2.2378 - accuracy: 0.4389 - val_loss: 2.6616 - val_accuracy: 0.3613\n",
      "Epoch 33/128\n",
      "391/391 [==============================] - 7s 17ms/step - loss: 2.2369 - accuracy: 0.4390 - val_loss: 2.6614 - val_accuracy: 0.3616\n",
      "Epoch 34/128\n",
      "391/391 [==============================] - 7s 17ms/step - loss: 2.2383 - accuracy: 0.4389 - val_loss: 2.6621 - val_accuracy: 0.3624\n",
      "Epoch 35/128\n",
      "391/391 [==============================] - 7s 18ms/step - loss: 2.2368 - accuracy: 0.4397 - val_loss: 2.6620 - val_accuracy: 0.3618\n",
      "Epoch 36/128\n",
      "391/391 [==============================] - 7s 17ms/step - loss: 2.2369 - accuracy: 0.4388 - val_loss: 2.6617 - val_accuracy: 0.3618\n",
      "Epoch 37/128\n",
      "391/391 [==============================] - 7s 18ms/step - loss: 2.2376 - accuracy: 0.4391 - val_loss: 2.6619 - val_accuracy: 0.3620\n",
      "Epoch 38/128\n",
      "391/391 [==============================] - 7s 17ms/step - loss: 2.2382 - accuracy: 0.4382 - val_loss: 2.6621 - val_accuracy: 0.3617\n",
      "Epoch 39/128\n",
      "391/391 [==============================] - 7s 17ms/step - loss: 2.2366 - accuracy: 0.4389 - val_loss: 2.6617 - val_accuracy: 0.3617\n",
      "Epoch 40/128\n",
      "391/391 [==============================] - 7s 17ms/step - loss: 2.2365 - accuracy: 0.4399 - val_loss: 2.6611 - val_accuracy: 0.3617\n",
      "Epoch 41/128\n",
      "391/391 [==============================] - 7s 17ms/step - loss: 2.2373 - accuracy: 0.4391 - val_loss: 2.6617 - val_accuracy: 0.3615\n",
      "Epoch 42/128\n",
      "391/391 [==============================] - 7s 17ms/step - loss: 2.2366 - accuracy: 0.4388 - val_loss: 2.6615 - val_accuracy: 0.3614\n",
      "Epoch 43/128\n",
      "391/391 [==============================] - 7s 18ms/step - loss: 2.2370 - accuracy: 0.4382 - val_loss: 2.6617 - val_accuracy: 0.3615\n",
      "Epoch 44/128\n",
      "391/391 [==============================] - 7s 17ms/step - loss: 2.2382 - accuracy: 0.4379 - val_loss: 2.6623 - val_accuracy: 0.3615\n",
      "Epoch 45/128\n",
      "391/391 [==============================] - 7s 18ms/step - loss: 2.2381 - accuracy: 0.4389 - val_loss: 2.6616 - val_accuracy: 0.3611\n",
      "Epoch 46/128\n",
      "391/391 [==============================] - 7s 17ms/step - loss: 2.2379 - accuracy: 0.4394 - val_loss: 2.6622 - val_accuracy: 0.3613\n",
      "Epoch 47/128\n",
      "391/391 [==============================] - 7s 18ms/step - loss: 2.2370 - accuracy: 0.4383 - val_loss: 2.6620 - val_accuracy: 0.3617\n",
      "Epoch 48/128\n",
      "391/391 [==============================] - 7s 17ms/step - loss: 2.2366 - accuracy: 0.4396 - val_loss: 2.6624 - val_accuracy: 0.3622\n",
      "Epoch 49/128\n",
      "391/391 [==============================] - 7s 17ms/step - loss: 2.2379 - accuracy: 0.4395 - val_loss: 2.6618 - val_accuracy: 0.3616\n",
      "Epoch 50/128\n",
      "391/391 [==============================] - 7s 17ms/step - loss: 2.2372 - accuracy: 0.4394 - val_loss: 2.6622 - val_accuracy: 0.3619\n",
      "Epoch 51/128\n",
      "391/391 [==============================] - 7s 17ms/step - loss: 2.2387 - accuracy: 0.4390 - val_loss: 2.6629 - val_accuracy: 0.3617\n",
      "Epoch 52/128\n",
      "391/391 [==============================] - 7s 17ms/step - loss: 2.2391 - accuracy: 0.4382 - val_loss: 2.6621 - val_accuracy: 0.3619\n",
      "Epoch 53/128\n",
      "391/391 [==============================] - 7s 18ms/step - loss: 2.2361 - accuracy: 0.4378 - val_loss: 2.6618 - val_accuracy: 0.3626\n",
      "Epoch 54/128\n",
      "391/391 [==============================] - 7s 17ms/step - loss: 2.2355 - accuracy: 0.4402 - val_loss: 2.6617 - val_accuracy: 0.3613\n",
      "Epoch 55/128\n",
      "391/391 [==============================] - 7s 17ms/step - loss: 2.2384 - accuracy: 0.4383 - val_loss: 2.6622 - val_accuracy: 0.3619\n",
      "Epoch 56/128\n",
      "391/391 [==============================] - 7s 17ms/step - loss: 2.2387 - accuracy: 0.4395 - val_loss: 2.6614 - val_accuracy: 0.3617\n",
      "Epoch 57/128\n"
     ]
    },
    {
     "name": "stdout",
     "output_type": "stream",
     "text": [
      "391/391 [==============================] - 7s 17ms/step - loss: 2.2368 - accuracy: 0.4395 - val_loss: 2.6619 - val_accuracy: 0.3615\n",
      "Epoch 58/128\n",
      "391/391 [==============================] - 7s 17ms/step - loss: 2.2384 - accuracy: 0.4373 - val_loss: 2.6618 - val_accuracy: 0.3617\n",
      "Epoch 59/128\n",
      "391/391 [==============================] - 7s 18ms/step - loss: 2.2365 - accuracy: 0.4396 - val_loss: 2.6616 - val_accuracy: 0.3619\n",
      "Epoch 60/128\n",
      "391/391 [==============================] - 7s 17ms/step - loss: 2.2392 - accuracy: 0.4386 - val_loss: 2.6613 - val_accuracy: 0.3623\n",
      "Epoch 61/128\n",
      "391/391 [==============================] - 7s 17ms/step - loss: 2.2358 - accuracy: 0.4404 - val_loss: 2.6623 - val_accuracy: 0.3614\n",
      "Epoch 62/128\n",
      "391/391 [==============================] - 7s 17ms/step - loss: 2.2365 - accuracy: 0.4393 - val_loss: 2.6615 - val_accuracy: 0.3617\n",
      "Epoch 63/128\n",
      "391/391 [==============================] - 7s 17ms/step - loss: 2.2378 - accuracy: 0.4382 - val_loss: 2.6619 - val_accuracy: 0.3616\n",
      "Epoch 64/128\n",
      "391/391 [==============================] - 7s 17ms/step - loss: 2.2370 - accuracy: 0.4395 - val_loss: 2.6614 - val_accuracy: 0.3618\n",
      "Epoch 65/128\n",
      "391/391 [==============================] - 7s 17ms/step - loss: 2.2372 - accuracy: 0.4394 - val_loss: 2.6615 - val_accuracy: 0.3625\n",
      "Epoch 66/128\n",
      "391/391 [==============================] - 7s 17ms/step - loss: 2.2361 - accuracy: 0.4394 - val_loss: 2.6615 - val_accuracy: 0.3620\n",
      "Epoch 67/128\n",
      "391/391 [==============================] - 7s 17ms/step - loss: 2.2369 - accuracy: 0.4390 - val_loss: 2.6614 - val_accuracy: 0.3619\n",
      "Epoch 68/128\n",
      "391/391 [==============================] - 7s 17ms/step - loss: 2.2381 - accuracy: 0.4381 - val_loss: 2.6614 - val_accuracy: 0.3615\n",
      "Epoch 69/128\n",
      "391/391 [==============================] - 7s 17ms/step - loss: 2.2378 - accuracy: 0.4393 - val_loss: 2.6615 - val_accuracy: 0.3617\n",
      "Epoch 70/128\n",
      "391/391 [==============================] - 7s 17ms/step - loss: 2.2362 - accuracy: 0.4392 - val_loss: 2.6615 - val_accuracy: 0.3621\n",
      "Epoch 71/128\n",
      "391/391 [==============================] - 7s 17ms/step - loss: 2.2377 - accuracy: 0.4390 - val_loss: 2.6614 - val_accuracy: 0.3615\n",
      "Epoch 72/128\n",
      "391/391 [==============================] - 7s 17ms/step - loss: 2.2373 - accuracy: 0.4395 - val_loss: 2.6621 - val_accuracy: 0.3625\n",
      "Epoch 73/128\n",
      "391/391 [==============================] - 7s 17ms/step - loss: 2.2374 - accuracy: 0.4389 - val_loss: 2.6623 - val_accuracy: 0.3619\n",
      "Epoch 74/128\n",
      "391/391 [==============================] - 7s 17ms/step - loss: 2.2386 - accuracy: 0.4389 - val_loss: 2.6620 - val_accuracy: 0.3611\n",
      "Epoch 75/128\n",
      "391/391 [==============================] - 7s 17ms/step - loss: 2.2357 - accuracy: 0.4387 - val_loss: 2.6613 - val_accuracy: 0.3618\n",
      "Epoch 76/128\n",
      "391/391 [==============================] - 7s 17ms/step - loss: 2.2367 - accuracy: 0.4388 - val_loss: 2.6616 - val_accuracy: 0.3616\n",
      "Epoch 77/128\n",
      "391/391 [==============================] - 7s 18ms/step - loss: 2.2377 - accuracy: 0.4392 - val_loss: 2.6610 - val_accuracy: 0.3613\n",
      "Epoch 78/128\n",
      "391/391 [==============================] - 7s 17ms/step - loss: 2.2377 - accuracy: 0.4390 - val_loss: 2.6626 - val_accuracy: 0.3611\n",
      "Epoch 79/128\n",
      "391/391 [==============================] - 7s 18ms/step - loss: 2.2366 - accuracy: 0.4387 - val_loss: 2.6611 - val_accuracy: 0.3615\n",
      "Epoch 80/128\n",
      "391/391 [==============================] - 7s 18ms/step - loss: 2.2389 - accuracy: 0.4387 - val_loss: 2.6617 - val_accuracy: 0.3621\n",
      "Epoch 81/128\n",
      "391/391 [==============================] - 7s 18ms/step - loss: 2.2372 - accuracy: 0.4398 - val_loss: 2.6621 - val_accuracy: 0.3620\n",
      "Epoch 82/128\n",
      "391/391 [==============================] - 7s 17ms/step - loss: 2.2374 - accuracy: 0.4390 - val_loss: 2.6617 - val_accuracy: 0.3613\n",
      "Epoch 83/128\n",
      "391/391 [==============================] - 7s 17ms/step - loss: 2.2382 - accuracy: 0.4395 - val_loss: 2.6619 - val_accuracy: 0.3612\n",
      "Epoch 84/128\n",
      "391/391 [==============================] - 7s 18ms/step - loss: 2.2372 - accuracy: 0.4390 - val_loss: 2.6617 - val_accuracy: 0.3622\n",
      "Epoch 85/128\n",
      "391/391 [==============================] - 7s 17ms/step - loss: 2.2372 - accuracy: 0.4385 - val_loss: 2.6627 - val_accuracy: 0.3619\n",
      "Epoch 86/128\n",
      "391/391 [==============================] - 7s 17ms/step - loss: 2.2386 - accuracy: 0.4381 - val_loss: 2.6629 - val_accuracy: 0.3618\n",
      "Epoch 87/128\n",
      "391/391 [==============================] - 7s 17ms/step - loss: 2.2370 - accuracy: 0.4387 - val_loss: 2.6615 - val_accuracy: 0.3609\n",
      "Epoch 88/128\n",
      "391/391 [==============================] - 7s 17ms/step - loss: 2.2373 - accuracy: 0.4394 - val_loss: 2.6614 - val_accuracy: 0.3615\n",
      "Epoch 89/128\n",
      "391/391 [==============================] - 7s 17ms/step - loss: 2.2395 - accuracy: 0.4373 - val_loss: 2.6624 - val_accuracy: 0.3622\n",
      "Epoch 90/128\n",
      "391/391 [==============================] - 7s 17ms/step - loss: 2.2379 - accuracy: 0.4403 - val_loss: 2.6616 - val_accuracy: 0.3617\n",
      "Epoch 91/128\n",
      "391/391 [==============================] - 7s 17ms/step - loss: 2.2374 - accuracy: 0.4395 - val_loss: 2.6624 - val_accuracy: 0.3616\n",
      "Epoch 92/128\n",
      "391/391 [==============================] - 7s 17ms/step - loss: 2.2375 - accuracy: 0.4398 - val_loss: 2.6619 - val_accuracy: 0.3615\n",
      "Epoch 93/128\n",
      "391/391 [==============================] - 7s 18ms/step - loss: 2.2362 - accuracy: 0.4394 - val_loss: 2.6623 - val_accuracy: 0.3619\n",
      "Epoch 94/128\n",
      "391/391 [==============================] - 7s 18ms/step - loss: 2.2379 - accuracy: 0.4383 - val_loss: 2.6620 - val_accuracy: 0.3619\n",
      "Epoch 95/128\n",
      "391/391 [==============================] - 7s 18ms/step - loss: 2.2360 - accuracy: 0.4393 - val_loss: 2.6616 - val_accuracy: 0.3620\n",
      "Epoch 106/128\n",
      "391/391 [==============================] - 7s 18ms/step - loss: 2.2389 - accuracy: 0.4388 - val_loss: 2.6615 - val_accuracy: 0.3612\n",
      "Epoch 107/128\n",
      "391/391 [==============================] - 7s 18ms/step - loss: 2.2389 - accuracy: 0.4386 - val_loss: 2.6616 - val_accuracy: 0.3620\n",
      "Epoch 108/128\n",
      "391/391 [==============================] - 7s 18ms/step - loss: 2.2382 - accuracy: 0.4404 - val_loss: 2.6619 - val_accuracy: 0.3620\n",
      "Epoch 109/128\n",
      "391/391 [==============================] - 7s 18ms/step - loss: 2.2363 - accuracy: 0.4392 - val_loss: 2.6617 - val_accuracy: 0.3619\n",
      "Epoch 110/128\n",
      "391/391 [==============================] - 7s 18ms/step - loss: 2.2380 - accuracy: 0.4382 - val_loss: 2.6627 - val_accuracy: 0.3614\n",
      "Epoch 111/128\n",
      "391/391 [==============================] - 7s 17ms/step - loss: 2.2383 - accuracy: 0.4405 - val_loss: 2.6622 - val_accuracy: 0.3617\n",
      "Epoch 112/128\n",
      "391/391 [==============================] - 7s 17ms/step - loss: 2.2370 - accuracy: 0.4385 - val_loss: 2.6616 - val_accuracy: 0.3617\n",
      "Epoch 113/128\n",
      "391/391 [==============================] - 7s 17ms/step - loss: 2.2355 - accuracy: 0.4392 - val_loss: 2.6627 - val_accuracy: 0.3617\n",
      "Epoch 114/128\n",
      "391/391 [==============================] - 7s 17ms/step - loss: 2.2364 - accuracy: 0.4389 - val_loss: 2.6621 - val_accuracy: 0.3620\n",
      "Epoch 115/128\n",
      "391/391 [==============================] - 7s 18ms/step - loss: 2.2366 - accuracy: 0.4384 - val_loss: 2.6619 - val_accuracy: 0.3613\n",
      "Epoch 116/128\n",
      "391/391 [==============================] - 7s 18ms/step - loss: 2.2368 - accuracy: 0.4399 - val_loss: 2.6623 - val_accuracy: 0.3618\n",
      "Epoch 117/128\n",
      "391/391 [==============================] - 7s 18ms/step - loss: 2.2370 - accuracy: 0.4395 - val_loss: 2.6617 - val_accuracy: 0.3617\n",
      "Epoch 118/128\n",
      "391/391 [==============================] - 7s 18ms/step - loss: 2.2371 - accuracy: 0.4393 - val_loss: 2.6618 - val_accuracy: 0.3619\n",
      "Epoch 119/128\n",
      "391/391 [==============================] - 7s 18ms/step - loss: 2.2383 - accuracy: 0.4388 - val_loss: 2.6618 - val_accuracy: 0.3619\n",
      "Epoch 120/128\n",
      "391/391 [==============================] - 7s 18ms/step - loss: 2.2361 - accuracy: 0.4387 - val_loss: 2.6616 - val_accuracy: 0.3621\n",
      "Epoch 121/128\n",
      "391/391 [==============================] - 7s 17ms/step - loss: 2.2368 - accuracy: 0.4407 - val_loss: 2.6614 - val_accuracy: 0.3611\n",
      "Epoch 122/128\n",
      "391/391 [==============================] - 7s 18ms/step - loss: 2.2384 - accuracy: 0.4391 - val_loss: 2.6619 - val_accuracy: 0.3616\n",
      "Epoch 123/128\n"
     ]
    },
    {
     "name": "stdout",
     "output_type": "stream",
     "text": [
      "391/391 [==============================] - 7s 17ms/step - loss: 2.2350 - accuracy: 0.4398 - val_loss: 2.6627 - val_accuracy: 0.3619\n",
      "Epoch 124/128\n",
      "391/391 [==============================] - 7s 18ms/step - loss: 2.2375 - accuracy: 0.4397 - val_loss: 2.6612 - val_accuracy: 0.3617\n",
      "Epoch 125/128\n",
      "391/391 [==============================] - 7s 17ms/step - loss: 2.2377 - accuracy: 0.4378 - val_loss: 2.6624 - val_accuracy: 0.3615\n",
      "Epoch 126/128\n",
      "391/391 [==============================] - 7s 18ms/step - loss: 2.2364 - accuracy: 0.4393 - val_loss: 2.6616 - val_accuracy: 0.3614\n",
      "Epoch 127/128\n",
      "391/391 [==============================] - 7s 17ms/step - loss: 2.2374 - accuracy: 0.4395 - val_loss: 2.6614 - val_accuracy: 0.3614\n",
      "Epoch 128/128\n",
      "391/391 [==============================] - 7s 18ms/step - loss: 2.2375 - accuracy: 0.4388 - val_loss: 2.6618 - val_accuracy: 0.3624\n"
     ]
    },
    {
     "data": {
      "text/plain": [
       "<keras.callbacks.History at 0x12effefb7f0>"
      ]
     },
     "execution_count": 10,
     "metadata": {},
     "output_type": "execute_result"
    }
   ],
   "source": [
    "# обучения модели\n",
    "model.fit(\n",
    "    x=X_train,\n",
    "    y=y_train,\n",
    "    validation_data=(X_val, y_val),\n",
    "    batch_size=BATCH_SIZE,\n",
    "    callbacks=[\n",
    "        tf.keras.callbacks.ModelCheckpoint(filepath=\"{epoch:02d}-{val_accuracy:.2f}.hdf5\", save_best_only=True),\n",
    "        \n",
    "    ],\n",
    "    use_multiprocessing=True,\n",
    "    workers=8,\n",
    "    epochs=128\n",
    ")"
   ]
  },
  {
   "cell_type": "code",
   "execution_count": 11,
   "metadata": {},
   "outputs": [
    {
     "name": "stdout",
     "output_type": "stream",
     "text": [
      "Model accuracy: 0.3624\n"
     ]
    }
   ],
   "source": [
    "scores = model.evaluate(X_val, y_val, verbose=0) \n",
    "print(f\"Model accuracy: {scores[1]:.4f}\")"
   ]
  },
  {
   "cell_type": "code",
   "execution_count": 12,
   "metadata": {},
   "outputs": [],
   "source": [
    "model.save(\"cifar-100.hdf5\")"
   ]
  }
 ],
 "metadata": {
  "kernelspec": {
   "display_name": "Python 3 (ipykernel)",
   "language": "python",
   "name": "python3"
  },
  "language_info": {
   "codemirror_mode": {
    "name": "ipython",
    "version": 3
   },
   "file_extension": ".py",
   "mimetype": "text/x-python",
   "name": "python",
   "nbconvert_exporter": "python",
   "pygments_lexer": "ipython3",
   "version": "3.10.0"
  }
 },
 "nbformat": 4,
 "nbformat_minor": 4
}
